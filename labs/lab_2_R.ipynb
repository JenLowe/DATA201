{
 "cells": [
  {
   "cell_type": "markdown",
   "metadata": {},
   "source": [
    "# Lab 2: The Data Frame"
   ]
  },
  {
   "cell_type": "markdown",
   "metadata": {},
   "source": [
    "# PART 0: Meetings\n",
    "\n",
    "In this lab we will work with a (subset) of the [Million Songs Dataset](https://labrosa.ee.columbia.edu/millionsong/).\n",
    "\n",
    "The dataset contains information about many songs, artists, and their locations.  \n",
    "It is composed of three different data containers.  \n",
    "Each one of this containers is a **dataframe**, a particular way of storing and structuring data.  \n",
    "In R, dataframes are conveniently handled using the functions provided by the _tiyverse_ libraries, hence let's load them."
   ]
  },
  {
   "cell_type": "code",
   "execution_count": 11,
   "metadata": {},
   "outputs": [
    {
     "name": "stderr",
     "output_type": "stream",
     "text": [
      "also installing the dependencies ‘ini’, ‘clisymbols’, ‘desc’, ‘gh’, ‘rprojroot’, ‘xopen’, ‘brew’, ‘commonmark’, ‘praise’, ‘usethis’, ‘git2r’, ‘memoise’, ‘pkgbuild’, ‘pkgload’, ‘rcmdcheck’, ‘remotes’, ‘roxygen2’, ‘sessioninfo’, ‘testthat’\n",
      "\n",
      "Updating HTML index of packages in '.Library'\n",
      "Making 'packages.html' ... done\n"
     ]
    }
   ],
   "source": [
    "#install.packages(\"tidyverse\")\n",
    "#install.packages(\"devtools\")"
   ]
  },
  {
   "cell_type": "code",
   "execution_count": 12,
   "metadata": {},
   "outputs": [
    {
     "name": "stderr",
     "output_type": "stream",
     "text": [
      "Loading required package: usethis\n"
     ]
    }
   ],
   "source": [
    "library(tidyverse)\n",
    "library(devtools)"
   ]
  },
  {
   "cell_type": "markdown",
   "metadata": {},
   "source": [
    "What information are we getting here?\n",
    "\n",
    "The packages attached are the ones that tidyverse is loading for us, and whose functions we can call directly.\n",
    "\n",
    "There are, however, some \"conflicts\": we loaded some packages (in this case \"dplyr\" and \"stats\", which is there always when you start R) that define functions with the same name (`filter()` and `lag()`). As for R specifications, if we call a function loaded by two packages, and do not explicitly say which one to use, the one defined in the latter loaded package will be used. In this case, as we loaded dplyr (through tidyverse) after stats, if we use `filter()` we are going to use dplyr's filter.\n",
    "\n",
    "What if we wanted to use another same named function? Well, in that case we would need to specify the package. We can do it by prepending `name_of_wanted_package::` to the function. In this case, if we wanted stats' version of `filter()`, we would need to write `stats::filter()` (see also the package [conflicted](https://github.com/r-lib/conflicted) for a different way of handling this problem)\n",
    "\n",
    "#### Now we have to get the data.  \n",
    "The dataset is convienently stored in a _github repository_, which is publicly accessible online, and is presented as a R package, so we don't need to worry about how to read it in R.  \n",
    "\n",
    "To get it, we can use the `install_github()` function, available throught the `devtools` library."
   ]
  },
  {
   "cell_type": "code",
   "execution_count": 22,
   "metadata": {},
   "outputs": [
    {
     "name": "stdout",
     "output_type": "stream",
     "text": [
      "Rcpp     (1.0.1  -> 1.0.2 ) [CRAN]\n",
      "digest   (0.6.18 -> 0.6.20) [CRAN]\n",
      "curl     (3.3    -> 4.0   ) [CRAN]\n",
      "mime     (0.6    -> 0.7   ) [CRAN]\n",
      "openssl  (1.3    -> 1.4.1 ) [CRAN]\n",
      "sys      (3.1    -> 3.2   ) [CRAN]\n",
      "evaluate (0.13   -> 0.14  ) [CRAN]\n"
     ]
    },
    {
     "name": "stderr",
     "output_type": "stream",
     "text": [
      "Installing 7 packages: Rcpp, digest, curl, mime, openssl, sys, evaluate\n",
      "Updating HTML index of packages in '.Library'\n",
      "Making 'packages.html' ... done\n"
     ]
    },
    {
     "name": "stdout",
     "output_type": "stream",
     "text": [
      "✔  checking for file ‘/home/jen/singer/DESCRIPTION’\n",
      "─  preparing ‘singer’:\n",
      "✔  checking DESCRIPTION meta-information\n",
      "─  checking for LF line-endings in source and make files and shell scripts\n",
      "─  checking for empty or unneeded directories\n",
      "─  looking to see if a ‘data/datalist’ file should be added\n",
      "─  building ‘singer_0.0.0.9000.tar.gz’\n",
      "   \n",
      "Running /home/jen/anaconda3/lib/R/bin/R CMD INSTALL \\\n",
      "  /tmp/Rtmp0QmzdW/singer_0.0.0.9000.tar.gz --install-tests \n",
      "* installing to library ‘/home/jen/anaconda3/lib/R/library’\n",
      "* installing *source* package ‘singer’ ...\n",
      "** R\n",
      "** data\n",
      "*** moving datasets to lazyload DB\n",
      "** tests\n",
      "** byte-compile and prepare package for lazy loading\n",
      "** help\n",
      "*** installing help indices\n",
      "** building package indices\n",
      "** installing vignettes\n",
      "** testing if installed package can be loaded\n",
      "* DONE (singer)\n"
     ]
    }
   ],
   "source": [
    "devtools::install(\"/home/jen/singer\")"
   ]
  },
  {
   "cell_type": "markdown",
   "metadata": {},
   "source": [
    "Now use the `library()` function to load it."
   ]
  },
  {
   "cell_type": "code",
   "execution_count": 23,
   "metadata": {},
   "outputs": [],
   "source": [
    "library(singer)"
   ]
  },
  {
   "cell_type": "markdown",
   "metadata": {},
   "source": [
    "We can obtain a quick overview of what dataset are now available via `singer` using the `data()` function.  "
   ]
  },
  {
   "cell_type": "code",
   "execution_count": 24,
   "metadata": {},
   "outputs": [
    {
     "data": {
      "text/html": [
       "<h3>Data sets</h3>\n",
       "<table>\n",
       "<thead><tr><th scope=col>Package</th><th scope=col>Item</th><th scope=col>Title</th></tr></thead>\n",
       "<tbody>\n",
       "\t<tr><td>singer          </td><td>locations       </td><td>locations       </td></tr>\n",
       "\t<tr><td>singer          </td><td>singer_locations</td><td>singer locations</td></tr>\n",
       "\t<tr><td>singer          </td><td>songs           </td><td>songs           </td></tr>\n",
       "</tbody>\n",
       "</table>\n",
       "\n"
      ],
      "text/plain": [
       "Data sets in package ‘singer’:\n",
       "\n",
       "locations               locations\n",
       "singer_locations        singer locations\n",
       "songs                   songs"
      ]
     },
     "metadata": {},
     "output_type": "display_data"
    }
   ],
   "source": [
    "data(package = \"singer\")"
   ]
  },
  {
   "cell_type": "markdown",
   "metadata": {},
   "source": [
    "These are the dataset available, but to use them we need to load them in the memory.  \n",
    "We use `data()` to load in memory one of those datasets.  "
   ]
  },
  {
   "cell_type": "code",
   "execution_count": 25,
   "metadata": {},
   "outputs": [],
   "source": [
    "data(singer_locations)"
   ]
  },
  {
   "cell_type": "markdown",
   "metadata": {},
   "source": [
    "# PART 1: introductions"
   ]
  },
  {
   "cell_type": "markdown",
   "metadata": {},
   "source": [
    "Let's have a look at what's in the dataset. But let's play safe: we don't know how big it is and we don't want to print to screen too much stuff.  \n",
    "So, how many rows of data we have?"
   ]
  },
  {
   "cell_type": "code",
   "execution_count": 26,
   "metadata": {},
   "outputs": [
    {
     "data": {
      "text/html": [
       "10100"
      ],
      "text/latex": [
       "10100"
      ],
      "text/markdown": [
       "10100"
      ],
      "text/plain": [
       "[1] 10100"
      ]
     },
     "metadata": {},
     "output_type": "display_data"
    }
   ],
   "source": [
    "singer_locations %>%\n",
    "  nrow()"
   ]
  },
  {
   "cell_type": "markdown",
   "metadata": {},
   "source": [
    "And how many columns?  \n",
    "The function we are going to use is `ncol()` (_**n**umber of **col**umns_).  \n",
    "Use the pipe (`%>%`) and `ncol()` to discover how many columns are there in `singer_locations`"
   ]
  },
  {
   "cell_type": "code",
   "execution_count": 28,
   "metadata": {},
   "outputs": [
    {
     "data": {
      "text/html": [
       "14"
      ],
      "text/latex": [
       "14"
      ],
      "text/markdown": [
       "14"
      ],
      "text/plain": [
       "[1] 14"
      ]
     },
     "metadata": {},
     "output_type": "display_data"
    }
   ],
   "source": [
    "singer_locations  %>%\n",
    "ncol()"
   ]
  },
  {
   "cell_type": "markdown",
   "metadata": {},
   "source": [
    "We can use `head()`, `tail()` or the beautiful `glimpse()` to peek at the dataset."
   ]
  },
  {
   "cell_type": "code",
   "execution_count": 29,
   "metadata": {},
   "outputs": [
    {
     "data": {
      "text/html": [
       "<table>\n",
       "<thead><tr><th scope=col>track_id</th><th scope=col>title</th><th scope=col>song_id</th><th scope=col>release</th><th scope=col>artist_id</th><th scope=col>artist_name</th><th scope=col>year</th><th scope=col>duration</th><th scope=col>artist_hotttnesss</th><th scope=col>artist_familiarity</th><th scope=col>latitude</th><th scope=col>longitude</th><th scope=col>name</th><th scope=col>city</th></tr></thead>\n",
       "<tbody>\n",
       "\t<tr><td>TRWICRA128F42368DB            </td><td>The Conversation (Cd)         </td><td>SOSURTI12A81C22FB8            </td><td>Even If It Kills Me           </td><td>ARACDPV1187FB58DF4            </td><td>Motion City Soundtrack        </td><td>2007                          </td><td>170.4485                      </td><td>0.6410183                     </td><td>0.8230522                     </td><td>      NA                      </td><td>       NA                     </td><td>NA                            </td><td>NA                            </td></tr>\n",
       "\t<tr><td>TRXJANY128F42246FC            </td><td>Lonely Island                 </td><td>SODESQP12A6D4F98EF            </td><td>The Duke Of Earl              </td><td>ARYBUAO1187FB3F4EB            </td><td>Gene Chandler                 </td><td>2004                          </td><td>106.5530                      </td><td>0.3937627                     </td><td>0.5700167                     </td><td>41.88415                      </td><td>-87.63241                     </td><td>Gene Chandler                 </td><td>Chicago, IL                   </td></tr>\n",
       "\t<tr><td>TRIKPCA128F424A553            </td><td>Here's That Rainy Day         </td><td>SOQUYQD12A8C131619            </td><td>Imprompture                   </td><td>AR4111G1187B9B58AB            </td><td>Paul Horn                     </td><td>1998                          </td><td>527.5947                      </td><td>0.4306226                     </td><td>0.5039940                     </td><td>40.71455                      </td><td>-74.00712                     </td><td>Paul Horn                     </td><td>New York, NY                  </td></tr>\n",
       "\t<tr><td>TRYEATD128F92F87C9                                           </td><td><span style=white-space:pre-wrap>Rego Park Blues      </span></td><td>SOEZGRC12AB017F1AC                                           </td><td><span style=white-space:pre-wrap>Still River        </span>  </td><td>ARQDZP31187B98D623                                           </td><td>Ronnie Earl &amp; the Broadcasters                           </td><td>1995                                                         </td><td>695.1179                                                     </td><td>0.3622792                                                    </td><td>0.4773099                                                    </td><td><span style=white-space:pre-wrap>      NA</span>             </td><td><span style=white-space:pre-wrap>       NA</span>            </td><td><span style=white-space:pre-wrap>NA           </span>        </td><td><span style=white-space:pre-wrap>NA          </span>         </td></tr>\n",
       "\t<tr><td>TRBYYXH128F4264585            </td><td>Games                         </td><td>SOPIOCP12A8C13A322            </td><td>Afro-Harping                  </td><td>AR75GYU1187B9AE47A            </td><td>Dorothy Ashby                 </td><td>1968                          </td><td>237.3220                      </td><td>0.4107520                     </td><td>0.5303468                     </td><td>42.33168                      </td><td>-83.04792                     </td><td>Dorothy Ashby                 </td><td>Detroit, MI                   </td></tr>\n",
       "\t<tr><td>TRKFFKR128F9303AE3            </td><td>More Pipes                    </td><td>SOHQSPY12AB0181325            </td><td>Six Yanks                     </td><td>ARCENE01187B9AF929            </td><td>Barleyjuice                   </td><td>2006                          </td><td>192.9400                      </td><td>0.3762635                     </td><td>0.5412950                     </td><td>40.99471                      </td><td>-77.60454                     </td><td>Barleyjuice                   </td><td>Pennsylvania                  </td></tr>\n",
       "</tbody>\n",
       "</table>\n"
      ],
      "text/latex": [
       "\\begin{tabular}{r|llllllllllllll}\n",
       " track\\_id & title & song\\_id & release & artist\\_id & artist\\_name & year & duration & artist\\_hotttnesss & artist\\_familiarity & latitude & longitude & name & city\\\\\n",
       "\\hline\n",
       "\t TRWICRA128F42368DB             & The Conversation (Cd)          & SOSURTI12A81C22FB8             & Even If It Kills Me            & ARACDPV1187FB58DF4             & Motion City Soundtrack         & 2007                           & 170.4485                       & 0.6410183                      & 0.8230522                      &       NA                       &        NA                      & NA                             & NA                            \\\\\n",
       "\t TRXJANY128F42246FC             & Lonely Island                  & SODESQP12A6D4F98EF             & The Duke Of Earl               & ARYBUAO1187FB3F4EB             & Gene Chandler                  & 2004                           & 106.5530                       & 0.3937627                      & 0.5700167                      & 41.88415                       & -87.63241                      & Gene Chandler                  & Chicago, IL                   \\\\\n",
       "\t TRIKPCA128F424A553             & Here's That Rainy Day          & SOQUYQD12A8C131619             & Imprompture                    & AR4111G1187B9B58AB             & Paul Horn                      & 1998                           & 527.5947                       & 0.4306226                      & 0.5039940                      & 40.71455                       & -74.00712                      & Paul Horn                      & New York, NY                  \\\\\n",
       "\t TRYEATD128F92F87C9               & Rego Park Blues                  & SOEZGRC12AB017F1AC               & Still River                      & ARQDZP31187B98D623               & Ronnie Earl \\& the Broadcasters & 1995                             & 695.1179                         & 0.3622792                        & 0.4773099                        &       NA                         &        NA                        & NA                               & NA                              \\\\\n",
       "\t TRBYYXH128F4264585             & Games                          & SOPIOCP12A8C13A322             & Afro-Harping                   & AR75GYU1187B9AE47A             & Dorothy Ashby                  & 1968                           & 237.3220                       & 0.4107520                      & 0.5303468                      & 42.33168                       & -83.04792                      & Dorothy Ashby                  & Detroit, MI                   \\\\\n",
       "\t TRKFFKR128F9303AE3             & More Pipes                     & SOHQSPY12AB0181325             & Six Yanks                      & ARCENE01187B9AF929             & Barleyjuice                    & 2006                           & 192.9400                       & 0.3762635                      & 0.5412950                      & 40.99471                       & -77.60454                      & Barleyjuice                    & Pennsylvania                  \\\\\n",
       "\\end{tabular}\n"
      ],
      "text/markdown": [
       "\n",
       "| track_id | title | song_id | release | artist_id | artist_name | year | duration | artist_hotttnesss | artist_familiarity | latitude | longitude | name | city |\n",
       "|---|---|---|---|---|---|---|---|---|---|---|---|---|---|\n",
       "| TRWICRA128F42368DB             | The Conversation (Cd)          | SOSURTI12A81C22FB8             | Even If It Kills Me            | ARACDPV1187FB58DF4             | Motion City Soundtrack         | 2007                           | 170.4485                       | 0.6410183                      | 0.8230522                      |       NA                       |        NA                      | NA                             | NA                             |\n",
       "| TRXJANY128F42246FC             | Lonely Island                  | SODESQP12A6D4F98EF             | The Duke Of Earl               | ARYBUAO1187FB3F4EB             | Gene Chandler                  | 2004                           | 106.5530                       | 0.3937627                      | 0.5700167                      | 41.88415                       | -87.63241                      | Gene Chandler                  | Chicago, IL                    |\n",
       "| TRIKPCA128F424A553             | Here's That Rainy Day          | SOQUYQD12A8C131619             | Imprompture                    | AR4111G1187B9B58AB             | Paul Horn                      | 1998                           | 527.5947                       | 0.4306226                      | 0.5039940                      | 40.71455                       | -74.00712                      | Paul Horn                      | New York, NY                   |\n",
       "| TRYEATD128F92F87C9             | Rego Park Blues                | SOEZGRC12AB017F1AC             | Still River                    | ARQDZP31187B98D623             | Ronnie Earl & the Broadcasters | 1995                           | 695.1179                       | 0.3622792                      | 0.4773099                      |       NA                       |        NA                      | NA                             | NA                             |\n",
       "| TRBYYXH128F4264585             | Games                          | SOPIOCP12A8C13A322             | Afro-Harping                   | AR75GYU1187B9AE47A             | Dorothy Ashby                  | 1968                           | 237.3220                       | 0.4107520                      | 0.5303468                      | 42.33168                       | -83.04792                      | Dorothy Ashby                  | Detroit, MI                    |\n",
       "| TRKFFKR128F9303AE3             | More Pipes                     | SOHQSPY12AB0181325             | Six Yanks                      | ARCENE01187B9AF929             | Barleyjuice                    | 2006                           | 192.9400                       | 0.3762635                      | 0.5412950                      | 40.99471                       | -77.60454                      | Barleyjuice                    | Pennsylvania                   |\n",
       "\n"
      ],
      "text/plain": [
       "  track_id           title                 song_id           \n",
       "1 TRWICRA128F42368DB The Conversation (Cd) SOSURTI12A81C22FB8\n",
       "2 TRXJANY128F42246FC Lonely Island         SODESQP12A6D4F98EF\n",
       "3 TRIKPCA128F424A553 Here's That Rainy Day SOQUYQD12A8C131619\n",
       "4 TRYEATD128F92F87C9 Rego Park Blues       SOEZGRC12AB017F1AC\n",
       "5 TRBYYXH128F4264585 Games                 SOPIOCP12A8C13A322\n",
       "6 TRKFFKR128F9303AE3 More Pipes            SOHQSPY12AB0181325\n",
       "  release             artist_id          artist_name                    year\n",
       "1 Even If It Kills Me ARACDPV1187FB58DF4 Motion City Soundtrack         2007\n",
       "2 The Duke Of Earl    ARYBUAO1187FB3F4EB Gene Chandler                  2004\n",
       "3 Imprompture         AR4111G1187B9B58AB Paul Horn                      1998\n",
       "4 Still River         ARQDZP31187B98D623 Ronnie Earl & the Broadcasters 1995\n",
       "5 Afro-Harping        AR75GYU1187B9AE47A Dorothy Ashby                  1968\n",
       "6 Six Yanks           ARCENE01187B9AF929 Barleyjuice                    2006\n",
       "  duration artist_hotttnesss artist_familiarity latitude longitude\n",
       "1 170.4485 0.6410183         0.8230522                NA        NA\n",
       "2 106.5530 0.3937627         0.5700167          41.88415 -87.63241\n",
       "3 527.5947 0.4306226         0.5039940          40.71455 -74.00712\n",
       "4 695.1179 0.3622792         0.4773099                NA        NA\n",
       "5 237.3220 0.4107520         0.5303468          42.33168 -83.04792\n",
       "6 192.9400 0.3762635         0.5412950          40.99471 -77.60454\n",
       "  name          city        \n",
       "1 NA            NA          \n",
       "2 Gene Chandler Chicago, IL \n",
       "3 Paul Horn     New York, NY\n",
       "4 NA            NA          \n",
       "5 Dorothy Ashby Detroit, MI \n",
       "6 Barleyjuice   Pennsylvania"
      ]
     },
     "metadata": {},
     "output_type": "display_data"
    }
   ],
   "source": [
    "singer_locations %>%\n",
    "  head()"
   ]
  },
  {
   "cell_type": "markdown",
   "metadata": {},
   "source": [
    "Try your hand with `tail()` and `glimpse()`."
   ]
  },
  {
   "cell_type": "code",
   "execution_count": 31,
   "metadata": {},
   "outputs": [
    {
     "data": {
      "text/html": [
       "<table>\n",
       "<thead><tr><th scope=col>track_id</th><th scope=col>title</th><th scope=col>song_id</th><th scope=col>release</th><th scope=col>artist_id</th><th scope=col>artist_name</th><th scope=col>year</th><th scope=col>duration</th><th scope=col>artist_hotttnesss</th><th scope=col>artist_familiarity</th><th scope=col>latitude</th><th scope=col>longitude</th><th scope=col>name</th><th scope=col>city</th></tr></thead>\n",
       "<tbody>\n",
       "\t<tr><td>TRNHZEE128F425DC25                          </td><td>Pull Up to Da Light                         </td><td>SOOFGYD12A8C138041                          </td><td>Da Kush                                     </td><td>ARRHMNH1187FB46512                          </td><td>T-Rock                                      </td><td>0                                           </td><td>276.0355                                    </td><td>0.3809877                                   </td><td>0.5048331                                   </td><td>32.67828                                    </td><td>-83.22295                                   </td><td>T-Rock                                      </td><td>Georgia                                     </td></tr>\n",
       "\t<tr><td>TRNBOMT128F92FF4E0                          </td><td>Hideaway                                    </td><td>SOAZFOU12A58A79370                          </td><td>Live at Peppers '68                         </td><td>ARRR4Y81187FB524CE                          </td><td>Lonnie Brooks                               </td><td>0                                           </td><td>341.3677                                    </td><td>0.3847638                                   </td><td>0.4421961                                   </td><td>30.76753                                    </td><td>-92.11789                                   </td><td>Lonnie Brooks                               </td><td>Dubuisson, LA                               </td></tr>\n",
       "\t<tr><td>TRCVRSU128EF34A53C                                                                  </td><td><span style=white-space:pre-wrap>Killing Me Softly                           </span></td><td>SOFUGDP12A6BD4F1E2                                                                  </td><td><span style=white-space:pre-wrap>Eternal Love Songs                         </span> </td><td>AR0XFXQ1187B98C49F                                                                  </td><td>Con &amp; Dec_ The Bachelors                                                        </td><td>0                                                                                   </td><td>299.1538                                                                            </td><td>0.3558477                                                                           </td><td>0.4982286                                                                           </td><td>53.34376                                                                            </td><td> -6.24953                                                                           </td><td>The Bachelors                                                                       </td><td>Dublin, Ireland                                                                     </td></tr>\n",
       "\t<tr><td>TRHSWOW128F4223266                          </td><td>With It                                     </td><td>SOFVMUU12A81C22AC3                          </td><td>Still Bangin' EP                            </td><td>AR9EZKS1187B98B705                          </td><td>DJ Liquid                                   </td><td>0                                           </td><td>406.0469                                    </td><td>0.3532875                                   </td><td>0.5482772                                   </td><td>      NA                                    </td><td>       NA                                   </td><td>NA                                          </td><td>NA                                          </td></tr>\n",
       "\t<tr><td>TRCEMNR128F92E0379                          </td><td>This Is Reality                             </td><td>SOQJOJG12A8C14328A                          </td><td>Live At Belvedere Hall 1983                 </td><td>AR7H5R61187FB39453                          </td><td>Psyche                                      </td><td>0                                           </td><td>434.3636                                    </td><td>0.4309886                                   </td><td>0.6163738                                   </td><td>      NA                                    </td><td>       NA                                   </td><td>NA                                          </td><td>NA                                          </td></tr>\n",
       "\t<tr><td>TRLCVCR128F9349A49                          </td><td>Waking Up (Key-Bb-Premiere Performance Plus)</td><td>SOYEPYG12AB018817E                          </td><td>Waking Up (Premiere Performance Plus Track) </td><td>ARNJ9M91187FB3906D                          </td><td>Charlie Hall                                </td><td>0                                           </td><td>289.1228                                    </td><td>0.4474504                                   </td><td>0.6378583                                   </td><td>      NA                                    </td><td>       NA                                   </td><td>NA                                          </td><td>NA                                          </td></tr>\n",
       "</tbody>\n",
       "</table>\n"
      ],
      "text/latex": [
       "\\begin{tabular}{r|llllllllllllll}\n",
       " track\\_id & title & song\\_id & release & artist\\_id & artist\\_name & year & duration & artist\\_hotttnesss & artist\\_familiarity & latitude & longitude & name & city\\\\\n",
       "\\hline\n",
       "\t TRNHZEE128F425DC25                           & Pull Up to Da Light                          & SOOFGYD12A8C138041                           & Da Kush                                      & ARRHMNH1187FB46512                           & T-Rock                                       & 0                                            & 276.0355                                     & 0.3809877                                    & 0.5048331                                    & 32.67828                                     & -83.22295                                    & T-Rock                                       & Georgia                                     \\\\\n",
       "\t TRNBOMT128F92FF4E0                           & Hideaway                                     & SOAZFOU12A58A79370                           & Live at Peppers '68                          & ARRR4Y81187FB524CE                           & Lonnie Brooks                                & 0                                            & 341.3677                                     & 0.3847638                                    & 0.4421961                                    & 30.76753                                     & -92.11789                                    & Lonnie Brooks                                & Dubuisson, LA                               \\\\\n",
       "\t TRCVRSU128EF34A53C                           & Killing Me Softly                            & SOFUGDP12A6BD4F1E2                           & Eternal Love Songs                           & AR0XFXQ1187B98C49F                           & Con \\& Dec\\_ The Bachelors                 & 0                                            & 299.1538                                     & 0.3558477                                    & 0.4982286                                    & 53.34376                                     &  -6.24953                                    & The Bachelors                                & Dublin, Ireland                             \\\\\n",
       "\t TRHSWOW128F4223266                           & With It                                      & SOFVMUU12A81C22AC3                           & Still Bangin' EP                             & AR9EZKS1187B98B705                           & DJ Liquid                                    & 0                                            & 406.0469                                     & 0.3532875                                    & 0.5482772                                    &       NA                                     &        NA                                    & NA                                           & NA                                          \\\\\n",
       "\t TRCEMNR128F92E0379                           & This Is Reality                              & SOQJOJG12A8C14328A                           & Live At Belvedere Hall 1983                  & AR7H5R61187FB39453                           & Psyche                                       & 0                                            & 434.3636                                     & 0.4309886                                    & 0.6163738                                    &       NA                                     &        NA                                    & NA                                           & NA                                          \\\\\n",
       "\t TRLCVCR128F9349A49                           & Waking Up (Key-Bb-Premiere Performance Plus) & SOYEPYG12AB018817E                           & Waking Up (Premiere Performance Plus Track)  & ARNJ9M91187FB3906D                           & Charlie Hall                                 & 0                                            & 289.1228                                     & 0.4474504                                    & 0.6378583                                    &       NA                                     &        NA                                    & NA                                           & NA                                          \\\\\n",
       "\\end{tabular}\n"
      ],
      "text/markdown": [
       "\n",
       "| track_id | title | song_id | release | artist_id | artist_name | year | duration | artist_hotttnesss | artist_familiarity | latitude | longitude | name | city |\n",
       "|---|---|---|---|---|---|---|---|---|---|---|---|---|---|\n",
       "| TRNHZEE128F425DC25                           | Pull Up to Da Light                          | SOOFGYD12A8C138041                           | Da Kush                                      | ARRHMNH1187FB46512                           | T-Rock                                       | 0                                            | 276.0355                                     | 0.3809877                                    | 0.5048331                                    | 32.67828                                     | -83.22295                                    | T-Rock                                       | Georgia                                      |\n",
       "| TRNBOMT128F92FF4E0                           | Hideaway                                     | SOAZFOU12A58A79370                           | Live at Peppers '68                          | ARRR4Y81187FB524CE                           | Lonnie Brooks                                | 0                                            | 341.3677                                     | 0.3847638                                    | 0.4421961                                    | 30.76753                                     | -92.11789                                    | Lonnie Brooks                                | Dubuisson, LA                                |\n",
       "| TRCVRSU128EF34A53C                           | Killing Me Softly                            | SOFUGDP12A6BD4F1E2                           | Eternal Love Songs                           | AR0XFXQ1187B98C49F                           | Con & Dec_ The Bachelors                     | 0                                            | 299.1538                                     | 0.3558477                                    | 0.4982286                                    | 53.34376                                     |  -6.24953                                    | The Bachelors                                | Dublin, Ireland                              |\n",
       "| TRHSWOW128F4223266                           | With It                                      | SOFVMUU12A81C22AC3                           | Still Bangin' EP                             | AR9EZKS1187B98B705                           | DJ Liquid                                    | 0                                            | 406.0469                                     | 0.3532875                                    | 0.5482772                                    |       NA                                     |        NA                                    | NA                                           | NA                                           |\n",
       "| TRCEMNR128F92E0379                           | This Is Reality                              | SOQJOJG12A8C14328A                           | Live At Belvedere Hall 1983                  | AR7H5R61187FB39453                           | Psyche                                       | 0                                            | 434.3636                                     | 0.4309886                                    | 0.6163738                                    |       NA                                     |        NA                                    | NA                                           | NA                                           |\n",
       "| TRLCVCR128F9349A49                           | Waking Up (Key-Bb-Premiere Performance Plus) | SOYEPYG12AB018817E                           | Waking Up (Premiere Performance Plus Track)  | ARNJ9M91187FB3906D                           | Charlie Hall                                 | 0                                            | 289.1228                                     | 0.4474504                                    | 0.6378583                                    |       NA                                     |        NA                                    | NA                                           | NA                                           |\n",
       "\n"
      ],
      "text/plain": [
       "  track_id           title                                       \n",
       "1 TRNHZEE128F425DC25 Pull Up to Da Light                         \n",
       "2 TRNBOMT128F92FF4E0 Hideaway                                    \n",
       "3 TRCVRSU128EF34A53C Killing Me Softly                           \n",
       "4 TRHSWOW128F4223266 With It                                     \n",
       "5 TRCEMNR128F92E0379 This Is Reality                             \n",
       "6 TRLCVCR128F9349A49 Waking Up (Key-Bb-Premiere Performance Plus)\n",
       "  song_id            release                                    \n",
       "1 SOOFGYD12A8C138041 Da Kush                                    \n",
       "2 SOAZFOU12A58A79370 Live at Peppers '68                        \n",
       "3 SOFUGDP12A6BD4F1E2 Eternal Love Songs                         \n",
       "4 SOFVMUU12A81C22AC3 Still Bangin' EP                           \n",
       "5 SOQJOJG12A8C14328A Live At Belvedere Hall 1983                \n",
       "6 SOYEPYG12AB018817E Waking Up (Premiere Performance Plus Track)\n",
       "  artist_id          artist_name              year duration artist_hotttnesss\n",
       "1 ARRHMNH1187FB46512 T-Rock                   0    276.0355 0.3809877        \n",
       "2 ARRR4Y81187FB524CE Lonnie Brooks            0    341.3677 0.3847638        \n",
       "3 AR0XFXQ1187B98C49F Con & Dec_ The Bachelors 0    299.1538 0.3558477        \n",
       "4 AR9EZKS1187B98B705 DJ Liquid                0    406.0469 0.3532875        \n",
       "5 AR7H5R61187FB39453 Psyche                   0    434.3636 0.4309886        \n",
       "6 ARNJ9M91187FB3906D Charlie Hall             0    289.1228 0.4474504        \n",
       "  artist_familiarity latitude longitude name          city           \n",
       "1 0.5048331          32.67828 -83.22295 T-Rock        Georgia        \n",
       "2 0.4421961          30.76753 -92.11789 Lonnie Brooks Dubuisson, LA  \n",
       "3 0.4982286          53.34376  -6.24953 The Bachelors Dublin, Ireland\n",
       "4 0.5482772                NA        NA NA            NA             \n",
       "5 0.6163738                NA        NA NA            NA             \n",
       "6 0.6378583                NA        NA NA            NA             "
      ]
     },
     "metadata": {},
     "output_type": "display_data"
    }
   ],
   "source": [
    "singer_locations %>%\n",
    "  tail()"
   ]
  },
  {
   "cell_type": "code",
   "execution_count": 30,
   "metadata": {},
   "outputs": [
    {
     "name": "stdout",
     "output_type": "stream",
     "text": [
      "Observations: 10,100\n",
      "Variables: 14\n",
      "$ track_id           <chr> \"TRWICRA128F42368DB\", \"TRXJANY128F42246FC\", \"TRIKP…\n",
      "$ title              <chr> \"The Conversation (Cd)\", \"Lonely Island\", \"Here's …\n",
      "$ song_id            <chr> \"SOSURTI12A81C22FB8\", \"SODESQP12A6D4F98EF\", \"SOQUY…\n",
      "$ release            <chr> \"Even If It Kills Me\", \"The Duke Of Earl\", \"Improm…\n",
      "$ artist_id          <chr> \"ARACDPV1187FB58DF4\", \"ARYBUAO1187FB3F4EB\", \"AR411…\n",
      "$ artist_name        <chr> \"Motion City Soundtrack\", \"Gene Chandler\", \"Paul H…\n",
      "$ year               <int> 2007, 2004, 1998, 1995, 1968, 2006, 2003, 2007, 19…\n",
      "$ duration           <dbl> 170.4485, 106.5530, 527.5947, 695.1179, 237.3220, …\n",
      "$ artist_hotttnesss  <dbl> 0.6410183, 0.3937627, 0.4306226, 0.3622792, 0.4107…\n",
      "$ artist_familiarity <dbl> 0.8230522, 0.5700167, 0.5039940, 0.4773099, 0.5303…\n",
      "$ latitude           <dbl> NA, 41.88415, 40.71455, NA, 42.33168, 40.99471, NA…\n",
      "$ longitude          <dbl> NA, -87.63241, -74.00712, NA, -83.04792, -77.60454…\n",
      "$ name               <chr> NA, \"Gene Chandler\", \"Paul Horn\", NA, \"Dorothy Ash…\n",
      "$ city               <chr> NA, \"Chicago, IL\", \"New York, NY\", NA, \"Detroit, M…\n"
     ]
    }
   ],
   "source": [
    "singer_locations %>%\n",
    "  glimpse()"
   ]
  },
  {
   "cell_type": "markdown",
   "metadata": {},
   "source": [
    "### Reflection time\n",
    "**Q** What information about the _structure_ of `singer_locations` could you grasp from glimpsing?"
   ]
  },
  {
   "cell_type": "markdown",
   "metadata": {},
   "source": [
    "The data frame has 14 variables for each song. See above to see what these are. "
   ]
  },
  {
   "cell_type": "markdown",
   "metadata": {},
   "source": [
    "## Selecting"
   ]
  },
  {
   "cell_type": "markdown",
   "metadata": {},
   "source": [
    "Sometimes we don't want to see all the columns of a dataframe, but just a few or one. That is possible using the `select()` function. Let's see how it works."
   ]
  },
  {
   "cell_type": "code",
   "execution_count": 32,
   "metadata": {},
   "outputs": [
    {
     "data": {
      "text/html": [
       "<table>\n",
       "<thead><tr><th scope=col>title</th></tr></thead>\n",
       "<tbody>\n",
       "\t<tr><td>The Conversation (Cd)</td></tr>\n",
       "\t<tr><td>Lonely Island        </td></tr>\n",
       "\t<tr><td>Here's That Rainy Day</td></tr>\n",
       "\t<tr><td>Rego Park Blues      </td></tr>\n",
       "\t<tr><td>Games                </td></tr>\n",
       "\t<tr><td>More Pipes           </td></tr>\n",
       "</tbody>\n",
       "</table>\n"
      ],
      "text/latex": [
       "\\begin{tabular}{r|l}\n",
       " title\\\\\n",
       "\\hline\n",
       "\t The Conversation (Cd)\\\\\n",
       "\t Lonely Island        \\\\\n",
       "\t Here's That Rainy Day\\\\\n",
       "\t Rego Park Blues      \\\\\n",
       "\t Games                \\\\\n",
       "\t More Pipes           \\\\\n",
       "\\end{tabular}\n"
      ],
      "text/markdown": [
       "\n",
       "| title |\n",
       "|---|\n",
       "| The Conversation (Cd) |\n",
       "| Lonely Island         |\n",
       "| Here's That Rainy Day |\n",
       "| Rego Park Blues       |\n",
       "| Games                 |\n",
       "| More Pipes            |\n",
       "\n"
      ],
      "text/plain": [
       "  title                \n",
       "1 The Conversation (Cd)\n",
       "2 Lonely Island        \n",
       "3 Here's That Rainy Day\n",
       "4 Rego Park Blues      \n",
       "5 Games                \n",
       "6 More Pipes           "
      ]
     },
     "metadata": {},
     "output_type": "display_data"
    }
   ],
   "source": [
    "singer_locations %>%\n",
    "  select(title) %>% # let's see only the title column\n",
    "  head() # and just a few rows"
   ]
  },
  {
   "cell_type": "markdown",
   "metadata": {},
   "source": [
    "fill in the following code to show only a coupld of `artist_name`:"
   ]
  },
  {
   "cell_type": "code",
   "execution_count": 34,
   "metadata": {},
   "outputs": [
    {
     "data": {
      "text/html": [
       "<table>\n",
       "<thead><tr><th scope=col>artist_name</th></tr></thead>\n",
       "<tbody>\n",
       "\t<tr><td>Motion City Soundtrack        </td></tr>\n",
       "\t<tr><td>Gene Chandler                 </td></tr>\n",
       "\t<tr><td>Paul Horn                     </td></tr>\n",
       "\t<tr><td>Ronnie Earl &amp; the Broadcasters</td></tr>\n",
       "\t<tr><td>Dorothy Ashby                 </td></tr>\n",
       "\t<tr><td>Barleyjuice                   </td></tr>\n",
       "</tbody>\n",
       "</table>\n"
      ],
      "text/latex": [
       "\\begin{tabular}{r|l}\n",
       " artist\\_name\\\\\n",
       "\\hline\n",
       "\t Motion City Soundtrack        \\\\\n",
       "\t Gene Chandler                 \\\\\n",
       "\t Paul Horn                     \\\\\n",
       "\t Ronnie Earl \\& the Broadcasters\\\\\n",
       "\t Dorothy Ashby                 \\\\\n",
       "\t Barleyjuice                   \\\\\n",
       "\\end{tabular}\n"
      ],
      "text/markdown": [
       "\n",
       "| artist_name |\n",
       "|---|\n",
       "| Motion City Soundtrack         |\n",
       "| Gene Chandler                  |\n",
       "| Paul Horn                      |\n",
       "| Ronnie Earl & the Broadcasters |\n",
       "| Dorothy Ashby                  |\n",
       "| Barleyjuice                    |\n",
       "\n"
      ],
      "text/plain": [
       "  artist_name                   \n",
       "1 Motion City Soundtrack        \n",
       "2 Gene Chandler                 \n",
       "3 Paul Horn                     \n",
       "4 Ronnie Earl & the Broadcasters\n",
       "5 Dorothy Ashby                 \n",
       "6 Barleyjuice                   "
      ]
     },
     "metadata": {},
     "output_type": "display_data"
    }
   ],
   "source": [
    "singer_locations %>%\n",
    "  select(artist_name) %>%\n",
    "  head()"
   ]
  },
  {
   "cell_type": "markdown",
   "metadata": {},
   "source": [
    "Moreover, tidyverse (specifically, dplyr) offers you helper functions to select some column, for example:"
   ]
  },
  {
   "cell_type": "code",
   "execution_count": 35,
   "metadata": {},
   "outputs": [
    {
     "data": {
      "text/html": [
       "<table>\n",
       "<thead><tr><th scope=col>track_id</th><th scope=col>song_id</th><th scope=col>artist_id</th></tr></thead>\n",
       "<tbody>\n",
       "\t<tr><td>TRWICRA128F42368DB</td><td>SOSURTI12A81C22FB8</td><td>ARACDPV1187FB58DF4</td></tr>\n",
       "\t<tr><td>TRXJANY128F42246FC</td><td>SODESQP12A6D4F98EF</td><td>ARYBUAO1187FB3F4EB</td></tr>\n",
       "\t<tr><td>TRIKPCA128F424A553</td><td>SOQUYQD12A8C131619</td><td>AR4111G1187B9B58AB</td></tr>\n",
       "\t<tr><td>TRYEATD128F92F87C9</td><td>SOEZGRC12AB017F1AC</td><td>ARQDZP31187B98D623</td></tr>\n",
       "\t<tr><td>TRBYYXH128F4264585</td><td>SOPIOCP12A8C13A322</td><td>AR75GYU1187B9AE47A</td></tr>\n",
       "\t<tr><td>TRKFFKR128F9303AE3</td><td>SOHQSPY12AB0181325</td><td>ARCENE01187B9AF929</td></tr>\n",
       "</tbody>\n",
       "</table>\n"
      ],
      "text/latex": [
       "\\begin{tabular}{r|lll}\n",
       " track\\_id & song\\_id & artist\\_id\\\\\n",
       "\\hline\n",
       "\t TRWICRA128F42368DB & SOSURTI12A81C22FB8 & ARACDPV1187FB58DF4\\\\\n",
       "\t TRXJANY128F42246FC & SODESQP12A6D4F98EF & ARYBUAO1187FB3F4EB\\\\\n",
       "\t TRIKPCA128F424A553 & SOQUYQD12A8C131619 & AR4111G1187B9B58AB\\\\\n",
       "\t TRYEATD128F92F87C9 & SOEZGRC12AB017F1AC & ARQDZP31187B98D623\\\\\n",
       "\t TRBYYXH128F4264585 & SOPIOCP12A8C13A322 & AR75GYU1187B9AE47A\\\\\n",
       "\t TRKFFKR128F9303AE3 & SOHQSPY12AB0181325 & ARCENE01187B9AF929\\\\\n",
       "\\end{tabular}\n"
      ],
      "text/markdown": [
       "\n",
       "| track_id | song_id | artist_id |\n",
       "|---|---|---|\n",
       "| TRWICRA128F42368DB | SOSURTI12A81C22FB8 | ARACDPV1187FB58DF4 |\n",
       "| TRXJANY128F42246FC | SODESQP12A6D4F98EF | ARYBUAO1187FB3F4EB |\n",
       "| TRIKPCA128F424A553 | SOQUYQD12A8C131619 | AR4111G1187B9B58AB |\n",
       "| TRYEATD128F92F87C9 | SOEZGRC12AB017F1AC | ARQDZP31187B98D623 |\n",
       "| TRBYYXH128F4264585 | SOPIOCP12A8C13A322 | AR75GYU1187B9AE47A |\n",
       "| TRKFFKR128F9303AE3 | SOHQSPY12AB0181325 | ARCENE01187B9AF929 |\n",
       "\n"
      ],
      "text/plain": [
       "  track_id           song_id            artist_id         \n",
       "1 TRWICRA128F42368DB SOSURTI12A81C22FB8 ARACDPV1187FB58DF4\n",
       "2 TRXJANY128F42246FC SODESQP12A6D4F98EF ARYBUAO1187FB3F4EB\n",
       "3 TRIKPCA128F424A553 SOQUYQD12A8C131619 AR4111G1187B9B58AB\n",
       "4 TRYEATD128F92F87C9 SOEZGRC12AB017F1AC ARQDZP31187B98D623\n",
       "5 TRBYYXH128F4264585 SOPIOCP12A8C13A322 AR75GYU1187B9AE47A\n",
       "6 TRKFFKR128F9303AE3 SOHQSPY12AB0181325 ARCENE01187B9AF929"
      ]
     },
     "metadata": {},
     "output_type": "display_data"
    }
   ],
   "source": [
    "singer_locations %>%\n",
    "  select(ends_with(\"id\")) %>% # let's see only the columns which names ends with \"id\"\n",
    "  head()"
   ]
  },
  {
   "cell_type": "code",
   "execution_count": 36,
   "metadata": {},
   "outputs": [
    {
     "data": {
      "text/html": [
       "<table>\n",
       "<thead><tr><th scope=col>track_id</th><th scope=col>title</th><th scope=col>song_id</th><th scope=col>release</th><th scope=col>artist_id</th></tr></thead>\n",
       "<tbody>\n",
       "\t<tr><td>TRWICRA128F42368DB   </td><td>The Conversation (Cd)</td><td>SOSURTI12A81C22FB8   </td><td>Even If It Kills Me  </td><td>ARACDPV1187FB58DF4   </td></tr>\n",
       "\t<tr><td>TRXJANY128F42246FC   </td><td>Lonely Island        </td><td>SODESQP12A6D4F98EF   </td><td>The Duke Of Earl     </td><td>ARYBUAO1187FB3F4EB   </td></tr>\n",
       "\t<tr><td>TRIKPCA128F424A553   </td><td>Here's That Rainy Day</td><td>SOQUYQD12A8C131619   </td><td>Imprompture          </td><td>AR4111G1187B9B58AB   </td></tr>\n",
       "\t<tr><td>TRYEATD128F92F87C9   </td><td>Rego Park Blues      </td><td>SOEZGRC12AB017F1AC   </td><td>Still River          </td><td>ARQDZP31187B98D623   </td></tr>\n",
       "\t<tr><td>TRBYYXH128F4264585   </td><td>Games                </td><td>SOPIOCP12A8C13A322   </td><td>Afro-Harping         </td><td>AR75GYU1187B9AE47A   </td></tr>\n",
       "\t<tr><td>TRKFFKR128F9303AE3   </td><td>More Pipes           </td><td>SOHQSPY12AB0181325   </td><td>Six Yanks            </td><td>ARCENE01187B9AF929   </td></tr>\n",
       "</tbody>\n",
       "</table>\n"
      ],
      "text/latex": [
       "\\begin{tabular}{r|lllll}\n",
       " track\\_id & title & song\\_id & release & artist\\_id\\\\\n",
       "\\hline\n",
       "\t TRWICRA128F42368DB    & The Conversation (Cd) & SOSURTI12A81C22FB8    & Even If It Kills Me   & ARACDPV1187FB58DF4   \\\\\n",
       "\t TRXJANY128F42246FC    & Lonely Island         & SODESQP12A6D4F98EF    & The Duke Of Earl      & ARYBUAO1187FB3F4EB   \\\\\n",
       "\t TRIKPCA128F424A553    & Here's That Rainy Day & SOQUYQD12A8C131619    & Imprompture           & AR4111G1187B9B58AB   \\\\\n",
       "\t TRYEATD128F92F87C9    & Rego Park Blues       & SOEZGRC12AB017F1AC    & Still River           & ARQDZP31187B98D623   \\\\\n",
       "\t TRBYYXH128F4264585    & Games                 & SOPIOCP12A8C13A322    & Afro-Harping          & AR75GYU1187B9AE47A   \\\\\n",
       "\t TRKFFKR128F9303AE3    & More Pipes            & SOHQSPY12AB0181325    & Six Yanks             & ARCENE01187B9AF929   \\\\\n",
       "\\end{tabular}\n"
      ],
      "text/markdown": [
       "\n",
       "| track_id | title | song_id | release | artist_id |\n",
       "|---|---|---|---|---|\n",
       "| TRWICRA128F42368DB    | The Conversation (Cd) | SOSURTI12A81C22FB8    | Even If It Kills Me   | ARACDPV1187FB58DF4    |\n",
       "| TRXJANY128F42246FC    | Lonely Island         | SODESQP12A6D4F98EF    | The Duke Of Earl      | ARYBUAO1187FB3F4EB    |\n",
       "| TRIKPCA128F424A553    | Here's That Rainy Day | SOQUYQD12A8C131619    | Imprompture           | AR4111G1187B9B58AB    |\n",
       "| TRYEATD128F92F87C9    | Rego Park Blues       | SOEZGRC12AB017F1AC    | Still River           | ARQDZP31187B98D623    |\n",
       "| TRBYYXH128F4264585    | Games                 | SOPIOCP12A8C13A322    | Afro-Harping          | AR75GYU1187B9AE47A    |\n",
       "| TRKFFKR128F9303AE3    | More Pipes            | SOHQSPY12AB0181325    | Six Yanks             | ARCENE01187B9AF929    |\n",
       "\n"
      ],
      "text/plain": [
       "  track_id           title                 song_id           \n",
       "1 TRWICRA128F42368DB The Conversation (Cd) SOSURTI12A81C22FB8\n",
       "2 TRXJANY128F42246FC Lonely Island         SODESQP12A6D4F98EF\n",
       "3 TRIKPCA128F424A553 Here's That Rainy Day SOQUYQD12A8C131619\n",
       "4 TRYEATD128F92F87C9 Rego Park Blues       SOEZGRC12AB017F1AC\n",
       "5 TRBYYXH128F4264585 Games                 SOPIOCP12A8C13A322\n",
       "6 TRKFFKR128F9303AE3 More Pipes            SOHQSPY12AB0181325\n",
       "  release             artist_id         \n",
       "1 Even If It Kills Me ARACDPV1187FB58DF4\n",
       "2 The Duke Of Earl    ARYBUAO1187FB3F4EB\n",
       "3 Imprompture         AR4111G1187B9B58AB\n",
       "4 Still River         ARQDZP31187B98D623\n",
       "5 Afro-Harping        AR75GYU1187B9AE47A\n",
       "6 Six Yanks           ARCENE01187B9AF929"
      ]
     },
     "metadata": {},
     "output_type": "display_data"
    }
   ],
   "source": [
    "singer_locations %>%\n",
    "  select(track_id : artist_id) %>% # let's see only the columns between track_id and artist_id\n",
    "  head()"
   ]
  },
  {
   "cell_type": "markdown",
   "metadata": {},
   "source": [
    "And we can also decide which columns NOT to have:"
   ]
  },
  {
   "cell_type": "code",
   "execution_count": 37,
   "metadata": {},
   "outputs": [
    {
     "data": {
      "text/html": [
       "<table>\n",
       "<thead><tr><th scope=col>title</th><th scope=col>release</th><th scope=col>artist_name</th><th scope=col>year</th><th scope=col>duration</th><th scope=col>artist_hotttnesss</th><th scope=col>artist_familiarity</th><th scope=col>latitude</th><th scope=col>longitude</th><th scope=col>name</th><th scope=col>city</th></tr></thead>\n",
       "<tbody>\n",
       "\t<tr><td>The Conversation (Cd)         </td><td>Even If It Kills Me           </td><td>Motion City Soundtrack        </td><td>2007                          </td><td>170.4485                      </td><td>0.6410183                     </td><td>0.8230522                     </td><td>      NA                      </td><td>       NA                     </td><td>NA                            </td><td>NA                            </td></tr>\n",
       "\t<tr><td>Lonely Island                 </td><td>The Duke Of Earl              </td><td>Gene Chandler                 </td><td>2004                          </td><td>106.5530                      </td><td>0.3937627                     </td><td>0.5700167                     </td><td>41.88415                      </td><td>-87.63241                     </td><td>Gene Chandler                 </td><td>Chicago, IL                   </td></tr>\n",
       "\t<tr><td>Here's That Rainy Day         </td><td>Imprompture                   </td><td>Paul Horn                     </td><td>1998                          </td><td>527.5947                      </td><td>0.4306226                     </td><td>0.5039940                     </td><td>40.71455                      </td><td>-74.00712                     </td><td>Paul Horn                     </td><td>New York, NY                  </td></tr>\n",
       "\t<tr><td><span style=white-space:pre-wrap>Rego Park Blues      </span></td><td><span style=white-space:pre-wrap>Still River        </span>  </td><td>Ronnie Earl &amp; the Broadcasters                           </td><td>1995                                                         </td><td>695.1179                                                     </td><td>0.3622792                                                    </td><td>0.4773099                                                    </td><td><span style=white-space:pre-wrap>      NA</span>             </td><td><span style=white-space:pre-wrap>       NA</span>            </td><td><span style=white-space:pre-wrap>NA           </span>        </td><td><span style=white-space:pre-wrap>NA          </span>         </td></tr>\n",
       "\t<tr><td>Games                         </td><td>Afro-Harping                  </td><td>Dorothy Ashby                 </td><td>1968                          </td><td>237.3220                      </td><td>0.4107520                     </td><td>0.5303468                     </td><td>42.33168                      </td><td>-83.04792                     </td><td>Dorothy Ashby                 </td><td>Detroit, MI                   </td></tr>\n",
       "\t<tr><td>More Pipes                    </td><td>Six Yanks                     </td><td>Barleyjuice                   </td><td>2006                          </td><td>192.9400                      </td><td>0.3762635                     </td><td>0.5412950                     </td><td>40.99471                      </td><td>-77.60454                     </td><td>Barleyjuice                   </td><td>Pennsylvania                  </td></tr>\n",
       "</tbody>\n",
       "</table>\n"
      ],
      "text/latex": [
       "\\begin{tabular}{r|lllllllllll}\n",
       " title & release & artist\\_name & year & duration & artist\\_hotttnesss & artist\\_familiarity & latitude & longitude & name & city\\\\\n",
       "\\hline\n",
       "\t The Conversation (Cd)          & Even If It Kills Me            & Motion City Soundtrack         & 2007                           & 170.4485                       & 0.6410183                      & 0.8230522                      &       NA                       &        NA                      & NA                             & NA                            \\\\\n",
       "\t Lonely Island                  & The Duke Of Earl               & Gene Chandler                  & 2004                           & 106.5530                       & 0.3937627                      & 0.5700167                      & 41.88415                       & -87.63241                      & Gene Chandler                  & Chicago, IL                   \\\\\n",
       "\t Here's That Rainy Day          & Imprompture                    & Paul Horn                      & 1998                           & 527.5947                       & 0.4306226                      & 0.5039940                      & 40.71455                       & -74.00712                      & Paul Horn                      & New York, NY                  \\\\\n",
       "\t Rego Park Blues                  & Still River                      & Ronnie Earl \\& the Broadcasters & 1995                             & 695.1179                         & 0.3622792                        & 0.4773099                        &       NA                         &        NA                        & NA                               & NA                              \\\\\n",
       "\t Games                          & Afro-Harping                   & Dorothy Ashby                  & 1968                           & 237.3220                       & 0.4107520                      & 0.5303468                      & 42.33168                       & -83.04792                      & Dorothy Ashby                  & Detroit, MI                   \\\\\n",
       "\t More Pipes                     & Six Yanks                      & Barleyjuice                    & 2006                           & 192.9400                       & 0.3762635                      & 0.5412950                      & 40.99471                       & -77.60454                      & Barleyjuice                    & Pennsylvania                  \\\\\n",
       "\\end{tabular}\n"
      ],
      "text/markdown": [
       "\n",
       "| title | release | artist_name | year | duration | artist_hotttnesss | artist_familiarity | latitude | longitude | name | city |\n",
       "|---|---|---|---|---|---|---|---|---|---|---|\n",
       "| The Conversation (Cd)          | Even If It Kills Me            | Motion City Soundtrack         | 2007                           | 170.4485                       | 0.6410183                      | 0.8230522                      |       NA                       |        NA                      | NA                             | NA                             |\n",
       "| Lonely Island                  | The Duke Of Earl               | Gene Chandler                  | 2004                           | 106.5530                       | 0.3937627                      | 0.5700167                      | 41.88415                       | -87.63241                      | Gene Chandler                  | Chicago, IL                    |\n",
       "| Here's That Rainy Day          | Imprompture                    | Paul Horn                      | 1998                           | 527.5947                       | 0.4306226                      | 0.5039940                      | 40.71455                       | -74.00712                      | Paul Horn                      | New York, NY                   |\n",
       "| Rego Park Blues                | Still River                    | Ronnie Earl & the Broadcasters | 1995                           | 695.1179                       | 0.3622792                      | 0.4773099                      |       NA                       |        NA                      | NA                             | NA                             |\n",
       "| Games                          | Afro-Harping                   | Dorothy Ashby                  | 1968                           | 237.3220                       | 0.4107520                      | 0.5303468                      | 42.33168                       | -83.04792                      | Dorothy Ashby                  | Detroit, MI                    |\n",
       "| More Pipes                     | Six Yanks                      | Barleyjuice                    | 2006                           | 192.9400                       | 0.3762635                      | 0.5412950                      | 40.99471                       | -77.60454                      | Barleyjuice                    | Pennsylvania                   |\n",
       "\n"
      ],
      "text/plain": [
       "  title                 release             artist_name                    year\n",
       "1 The Conversation (Cd) Even If It Kills Me Motion City Soundtrack         2007\n",
       "2 Lonely Island         The Duke Of Earl    Gene Chandler                  2004\n",
       "3 Here's That Rainy Day Imprompture         Paul Horn                      1998\n",
       "4 Rego Park Blues       Still River         Ronnie Earl & the Broadcasters 1995\n",
       "5 Games                 Afro-Harping        Dorothy Ashby                  1968\n",
       "6 More Pipes            Six Yanks           Barleyjuice                    2006\n",
       "  duration artist_hotttnesss artist_familiarity latitude longitude\n",
       "1 170.4485 0.6410183         0.8230522                NA        NA\n",
       "2 106.5530 0.3937627         0.5700167          41.88415 -87.63241\n",
       "3 527.5947 0.4306226         0.5039940          40.71455 -74.00712\n",
       "4 695.1179 0.3622792         0.4773099                NA        NA\n",
       "5 237.3220 0.4107520         0.5303468          42.33168 -83.04792\n",
       "6 192.9400 0.3762635         0.5412950          40.99471 -77.60454\n",
       "  name          city        \n",
       "1 NA            NA          \n",
       "2 Gene Chandler Chicago, IL \n",
       "3 Paul Horn     New York, NY\n",
       "4 NA            NA          \n",
       "5 Dorothy Ashby Detroit, MI \n",
       "6 Barleyjuice   Pennsylvania"
      ]
     },
     "metadata": {},
     "output_type": "display_data"
    }
   ],
   "source": [
    "singer_locations %>%\n",
    "  select(-ends_with(\"id\")) %>% # let's drop the \"id\" columns\n",
    "  head()"
   ]
  },
  {
   "cell_type": "markdown",
   "metadata": {},
   "source": [
    "## Plot, listen, 3D print, ...\n",
    "\n",
    "Identifying the presence of regularities or irregularities in the data by simply reading the values in a dataset is difficult. Not impossible, and sometime you need to do it.   Visual, audio, ..., representations of data leverage on the human ability to parse information. Thus, let's use those representations as often as we can.\n",
    "\n",
    "(Unfortunately) visual representations are much more supported than any other expressive means (at least in R and many other programming language).  \n",
    "So, let's get artistic. Here I will focus on plotting data, but if visual is not for you come talk with me and we can find a solution."
   ]
  },
  {
   "cell_type": "markdown",
   "metadata": {},
   "source": [
    "One of the first packages we see is called `skimr` (more infor [here](https://github.com/ropensci/skimr) )"
   ]
  },
  {
   "cell_type": "code",
   "execution_count": 40,
   "metadata": {},
   "outputs": [
    {
     "name": "stdout",
     "output_type": "stream",
     "text": [
      "pander (NA -> 0.6.3) [CRAN]\n"
     ]
    },
    {
     "name": "stderr",
     "output_type": "stream",
     "text": [
      "Installing 1 packages: pander\n",
      "Updating HTML index of packages in '.Library'\n",
      "Making 'packages.html' ... done\n"
     ]
    },
    {
     "name": "stdout",
     "output_type": "stream",
     "text": [
      "✔  checking for file ‘/home/jen/skimr/DESCRIPTION’\n",
      "─  preparing ‘skimr’:\n",
      "✔  checking DESCRIPTION meta-information\n",
      "─  checking for LF line-endings in source and make files and shell scripts\n",
      "─  checking for empty or unneeded directories\n",
      "─  building ‘skimr_1.0.7.tar.gz’\n",
      "   \n",
      "Running /home/jen/anaconda3/lib/R/bin/R CMD INSTALL \\\n",
      "  /tmp/Rtmp0QmzdW/skimr_1.0.7.tar.gz --install-tests \n",
      "* installing to library ‘/home/jen/anaconda3/lib/R/library’\n",
      "* installing *source* package ‘skimr’ ...\n",
      "** R\n",
      "** inst\n",
      "** tests\n",
      "** byte-compile and prepare package for lazy loading\n",
      "** help\n",
      "*** installing help indices\n",
      "*** copying figures\n",
      "** building package indices\n",
      "** installing vignettes\n",
      "** testing if installed package can be loaded\n",
      "* DONE (skimr)\n"
     ]
    }
   ],
   "source": [
    "devtools::install(\"/home/jen/skimr\")"
   ]
  },
  {
   "cell_type": "code",
   "execution_count": 41,
   "metadata": {},
   "outputs": [
    {
     "name": "stderr",
     "output_type": "stream",
     "text": [
      "\n",
      "Attaching package: ‘skimr’\n",
      "\n",
      "The following object is masked from ‘package:stats’:\n",
      "\n",
      "    filter\n",
      "\n"
     ]
    }
   ],
   "source": [
    "library(skimr)"
   ]
  },
  {
   "cell_type": "markdown",
   "metadata": {},
   "source": [
    "The main function is called `skim()`.  \n",
    "Warning: it will spit out a lot of text, especially if your dataset has many columns..."
   ]
  },
  {
   "cell_type": "code",
   "execution_count": 43,
   "metadata": {},
   "outputs": [
    {
     "data": {
      "text/html": [
       "<table>\n",
       "<thead><tr><th scope=col>variable</th><th scope=col>type</th><th scope=col>stat</th><th scope=col>level</th><th scope=col>value</th><th scope=col>formatted</th></tr></thead>\n",
       "<tbody>\n",
       "\t<tr><td>track_id </td><td>character</td><td>missing  </td><td>.all     </td><td>    0    </td><td>0        </td></tr>\n",
       "\t<tr><td>track_id </td><td>character</td><td>complete </td><td>.all     </td><td>10100    </td><td>10100    </td></tr>\n",
       "\t<tr><td>track_id </td><td>character</td><td>n        </td><td>.all     </td><td>10100    </td><td>10100    </td></tr>\n",
       "\t<tr><td>track_id </td><td>character</td><td>min      </td><td>.all     </td><td>   18    </td><td>18       </td></tr>\n",
       "\t<tr><td>track_id </td><td>character</td><td>max      </td><td>.all     </td><td>   18    </td><td>18       </td></tr>\n",
       "\t<tr><td>track_id </td><td>character</td><td>empty    </td><td>.all     </td><td>    0    </td><td>0        </td></tr>\n",
       "</tbody>\n",
       "</table>\n"
      ],
      "text/latex": [
       "\\begin{tabular}{r|llllll}\n",
       " variable & type & stat & level & value & formatted\\\\\n",
       "\\hline\n",
       "\t track\\_id & character  & missing    & .all       &     0      & 0         \\\\\n",
       "\t track\\_id & character  & complete   & .all       & 10100      & 10100     \\\\\n",
       "\t track\\_id & character  & n          & .all       & 10100      & 10100     \\\\\n",
       "\t track\\_id & character  & min        & .all       &    18      & 18        \\\\\n",
       "\t track\\_id & character  & max        & .all       &    18      & 18        \\\\\n",
       "\t track\\_id & character  & empty      & .all       &     0      & 0         \\\\\n",
       "\\end{tabular}\n"
      ],
      "text/markdown": [
       "\n",
       "| variable | type | stat | level | value | formatted |\n",
       "|---|---|---|---|---|---|\n",
       "| track_id  | character | missing   | .all      |     0     | 0         |\n",
       "| track_id  | character | complete  | .all      | 10100     | 10100     |\n",
       "| track_id  | character | n         | .all      | 10100     | 10100     |\n",
       "| track_id  | character | min       | .all      |    18     | 18        |\n",
       "| track_id  | character | max       | .all      |    18     | 18        |\n",
       "| track_id  | character | empty     | .all      |     0     | 0         |\n",
       "\n"
      ],
      "text/plain": [
       "  variable type      stat     level value formatted\n",
       "1 track_id character missing  .all      0 0        \n",
       "2 track_id character complete .all  10100 10100    \n",
       "3 track_id character n        .all  10100 10100    \n",
       "4 track_id character min      .all     18 18       \n",
       "5 track_id character max      .all     18 18       \n",
       "6 track_id character empty    .all      0 0        "
      ]
     },
     "metadata": {},
     "output_type": "display_data"
    }
   ],
   "source": [
    "singer_locations %>%\n",
    "  skim() %>%\n",
    "  head()"
   ]
  },
  {
   "cell_type": "markdown",
   "metadata": {},
   "source": [
    "Uuuh, we have a LOT of information there, and it is not very easy to read it.  \n",
    "Luckily, `skimr` has a hand function, `kable()`, that organise that information into a more compact format."
   ]
  },
  {
   "cell_type": "code",
   "execution_count": 44,
   "metadata": {},
   "outputs": [
    {
     "name": "stdout",
     "output_type": "stream",
     "text": [
      "Skim summary statistics  \n",
      " n obs: 10100    \n",
      " n variables: 14    \n",
      "\n",
      "Variable type: character\n",
      "\n",
      "|  variable   | missing | complete |   n   | min | max | empty | n_unique |\n",
      "|-------------|---------|----------|-------|-----|-----|-------|----------|\n",
      "|  artist_id  |    0    |  10100   | 10100 | 18  | 18  |   0   |   7346   |\n",
      "| artist_name |    0    |  10100   | 10100 |  2  | 127 |   0   |   7498   |\n",
      "|    city     |  5971   |   4129   | 10100 |  2  | 90  |   0   |   1316   |\n",
      "|    name     |  5968   |   4132   | 10100 |  1  | 223 |   0   |   2912   |\n",
      "|   release   |    0    |  10100   | 10100 |  1  | 125 |   0   |   9049   |\n",
      "|   song_id   |    0    |  10100   | 10100 | 18  | 18  |   0   |  10100   |\n",
      "|    title    |    0    |  10100   | 10100 |  1  | 118 |   0   |   9799   |\n",
      "|  track_id   |    0    |  10100   | 10100 | 18  | 18  |   0   |  10100   |\n",
      "\n",
      "Variable type: integer\n",
      "\n",
      "| variable | missing | complete |   n   |  mean   |   sd   | p0 | p25  | p50  | p75  | p100 |   hist   |\n",
      "|----------|---------|----------|-------|---------|--------|----|------|------|------|------|----------|\n",
      "|   year   |    0    |  10100   | 10100 | 1978.58 | 198.17 | 0  | 1994 | 2002 | 2006 | 2010 | ▁▁▁▁▁▁▁▇ |\n",
      "\n",
      "Variable type: numeric\n",
      "\n",
      "|      variable      | missing | complete |   n   |  mean  |   sd   |   p0    |  p25   |  p50   |  p75   |  p100   |   hist   |\n",
      "|--------------------|---------|----------|-------|--------|--------|---------|--------|--------|--------|---------|----------|\n",
      "| artist_familiarity |    0    |  10100   | 10100 |  0.6   |  0.13  |    0    |  0.52  |  0.6   |  0.68  |    1    | ▁▁▁▃▇▆▂▁ |\n",
      "| artist_hotttnesss  |    0    |  10100   | 10100 |  0.41  |  0.11  |    0    |  0.36  |  0.41  |  0.47  |  1.02   | ▁▁▅▇▂▁▁▁ |\n",
      "|      duration      |    0    |  10100   | 10100 | 248.4  | 115.37 |   0.6   | 184.05 | 231.38 | 288.46 | 2149.33 | ▇▃▁▁▁▁▁▁ |\n",
      "|      latitude      |  5968   |   4132   | 10100 | 40.05  | 15.26  | -45.87  | 35.15  | 40.71  | 50.88  |  69.65  | ▁▁▁▁▁▇▇▁ |\n",
      "|     longitude      |  5968   |   4132   | 10100 | -53.63 | 56.69  | -155.43 | -90.2  | -74.73 | -1.46  | 175.47  | ▂▇▁▅▂▁▁▁ |\n"
     ]
    }
   ],
   "source": [
    "singer_locations %>%\n",
    "  skim() %>%\n",
    "  kable()"
   ]
  },
  {
   "cell_type": "markdown",
   "metadata": {},
   "source": [
    "Ok, there's a lot to unpack here.\n",
    "\n",
    "Each row in the tables describes a column of the dataframe.\n",
    "\n",
    "Let's see what some of these descriptors mean:\n",
    "\n",
    "- **missing**/**complete**: the amount of rows having values that R recognise as \"missing\" / the amount of rows having non-missing values\n",
    "- **n**: the total amount of rows \n",
    "- **min**/**max**: the minimal and maximal number of characters\n",
    "- **n_unique**: the number of unique values\n",
    "- **mean**, **sd**, **p0**, **p25**, **p50**, **p100**: statistical descriptors of the values distribution\n",
    "- **hist**: an histogram of the values"
   ]
  },
  {
   "cell_type": "markdown",
   "metadata": {},
   "source": [
    "### Quiz Time\n",
    "\n",
    "**warm up**\n",
    "- How many cities are present in the dataframe? 1316\n",
    "- How many different song titles? 9799\n",
    "- How old is the newest song? 2010\n",
    "\n",
    "**handle with care**\n",
    "- How old is the oldest song?\n",
    "- How many artists? 7346"
   ]
  },
  {
   "cell_type": "markdown",
   "metadata": {},
   "source": [
    "### Reflection time\n",
    "\n",
    "The 14 columns in `singer_locations` have been organised into three groups:  \n",
    "- **character**: this is stuff containing \"text\", \"words\" and similar\n",
    "- **integer**: this is stuff that is expressed as wholesome integers (42, 1984, 38, -4, ...)\n",
    "- **numeric**: this is stuff that is express by numbers with some amount of digits (3.14, 1.67, 0.33333, ...)\n",
    "\n",
    "**Q** Why do you think `skim()` summarise those differently?"
   ]
  },
  {
   "cell_type": "markdown",
   "metadata": {},
   "source": [
    "You can not find the same stats on words as you can on numbers"
   ]
  },
  {
   "cell_type": "markdown",
   "metadata": {},
   "source": [
    "Well, the visualization here was quite limited (just a tiny histogram), but already we have a deeper understanding of our data source.  \n",
    "Let's get more visual, with `visdat` (see [here](https://github.com/ropensci/visdat) for more details)."
   ]
  },
  {
   "cell_type": "code",
   "execution_count": null,
   "metadata": {},
   "outputs": [],
   "source": [
    "remotes::install_github(\"ropensci/visdat\")"
   ]
  },
  {
   "cell_type": "code",
   "execution_count": 45,
   "metadata": {},
   "outputs": [
    {
     "ename": "ERROR",
     "evalue": "Error in library(visdat): there is no package called ‘visdat’\n",
     "output_type": "error",
     "traceback": [
      "Error in library(visdat): there is no package called ‘visdat’\nTraceback:\n",
      "1. library(visdat)",
      "2. stop(txt, domain = NA)"
     ]
    }
   ],
   "source": [
    "library(visdat)"
   ]
  },
  {
   "cell_type": "markdown",
   "metadata": {},
   "source": [
    "The library `visdat` has been developed by Nicholas Tierney and others to give quick access to usefull preliminary visualization of dataframes.  \n",
    "We read that we have some missing values in our dataframe. Let's have a look:"
   ]
  },
  {
   "cell_type": "code",
   "execution_count": null,
   "metadata": {},
   "outputs": [],
   "source": [
    "singer_locations %>%\n",
    "  vis_miss()"
   ]
  },
  {
   "cell_type": "markdown",
   "metadata": {},
   "source": [
    "From the visualisation, it appears that the missing values are all from the same rows. How \"big\" is that blog of missingness?\n",
    "We can set the option (technically an _argument_) `cluster` to `TRUE` to show it."
   ]
  },
  {
   "cell_type": "code",
   "execution_count": null,
   "metadata": {},
   "outputs": [],
   "source": [
    "singer_locations %>%\n",
    "  vis_miss(cluster = TRUE)"
   ]
  },
  {
   "cell_type": "markdown",
   "metadata": {},
   "source": [
    "That's a large chunck, isn't it?"
   ]
  },
  {
   "cell_type": "markdown",
   "metadata": {},
   "source": [
    "# PART 2: verbs"
   ]
  },
  {
   "cell_type": "markdown",
   "metadata": {},
   "source": [
    "Enough preliminaries, we want to plot! And do stuff!\n",
    "\n",
    "Sure enough, there you go!"
   ]
  },
  {
   "cell_type": "code",
   "execution_count": null,
   "metadata": {},
   "outputs": [],
   "source": [
    "singer_locations %>% # this will define where we get the data from\n",
    "  ggplot( # we are using the ggplot2 library (it's been loaded together with tidyverse)\n",
    "  mapping = # the mapping defines how the features of the data frame will be placed on the drawing area\n",
    "      aes( # aes stands for aesthetics: this are the visual properties of the graph\n",
    "      x = artist_hotttnesss, # we want the \"artist_hotttnesss\" on the x\n",
    "      y = artist_familiarity)) + # and the \"artist_familiarity\" on the y\n",
    "  geom_point() # plotted as points"
   ]
  },
  {
   "cell_type": "markdown",
   "metadata": {},
   "source": [
    "We build this plots using what is known as _grammar of graphs_. Let's see a couple more examples.\n",
    "\n",
    "What about a song \"duration\"? Are hot songs more or less long? Let's see.  \n",
    "We can reuse the same code template, and just change the _variables_ we are going to plot on x and y:"
   ]
  },
  {
   "cell_type": "code",
   "execution_count": null,
   "metadata": {},
   "outputs": [],
   "source": [
    "singer_locations %>% # this will define where we get the data from\n",
    "  ggplot(mapping = aes( # aes stands for aesthetics: this are the visual properties of the graph\n",
    "      x = duration, # we want the \"duration\" on the x\n",
    "      y = artist_hotttnesss)) + # and the \"artist_familiarity\" on the y\n",
    "  geom_point() # plotted as points"
   ]
  },
  {
   "cell_type": "markdown",
   "metadata": {},
   "source": [
    "Your turn now. Modify the following code to plot some other variable."
   ]
  },
  {
   "cell_type": "code",
   "execution_count": null,
   "metadata": {},
   "outputs": [],
   "source": [
    "singer_locations %>%\n",
    "  ggplot(mapping = aes(x = , # your x variable\n",
    "      y = )) + # your y variable\n",
    "  geom_point() # plotted as points"
   ]
  },
  {
   "cell_type": "markdown",
   "metadata": {},
   "source": [
    "We are not limited to only x and y, we have many possible aesthetics to play with: colors, groupings, sizes, alpha (transparencies), shapes, ...\n",
    "\n",
    "The world is yours to paint! Let's add some colour!"
   ]
  },
  {
   "cell_type": "code",
   "execution_count": null,
   "metadata": {},
   "outputs": [],
   "source": [
    "singer_locations %>%\n",
    "  ggplot(mapping = aes(x = artist_hotttnesss, # your x variable\n",
    "      y = duration,\n",
    "      colour = artist_familiarity)) + # your y variable\n",
    "  geom_point() # plotted as points"
   ]
  },
  {
   "cell_type": "markdown",
   "metadata": {},
   "source": [
    "We do also have different geometries (points, lines, histograms, ...) that you can start to play with.  \n",
    "We will see them more in details in the next lectures. If you can't wait, the chapter on [Data Visualization](http://r4ds.had.co.nz/data-visualisation.html) in Hadley's R for Data Science is a great resource."
   ]
  },
  {
   "cell_type": "markdown",
   "metadata": {},
   "source": [
    "Now, let's do a good one: did the duration of songs increased or decreased in time? Let's have a look?  \n",
    "Plot the year on the x axis and the duration on the y axis (_hint_: copy the code from the previous cells and modify it accordingly)."
   ]
  },
  {
   "cell_type": "code",
   "execution_count": null,
   "metadata": {},
   "outputs": [],
   "source": [
    "# your code here"
   ]
  },
  {
   "cell_type": "markdown",
   "metadata": {},
   "source": [
    "Mmm, what happened? Something doesn't look right?  \n",
    "\n",
    "Oh, sure, it's those pesky \"0\" years. The missing years have not been labelled properly, but just inputted as zeros.  \n",
    "What now?  \n",
    "\n",
    "Don't worry, we have more than one way of dealing with that, using `filter()`ing and `mutate()`ing functions.\n",
    "\n",
    "`filter()` is a function that allows to drop some rows, based on a user defined rule.\n",
    "`mutate()` allows to change the values in a dataframe according to a user defined rule.\n",
    "\n",
    "Let's start with `filter()` to get only the Black Sabbath songs."
   ]
  },
  {
   "cell_type": "code",
   "execution_count": null,
   "metadata": {},
   "outputs": [],
   "source": [
    "singer_locations %>%\n",
    "  filter(artist_name == \"Black Sabbath\")"
   ]
  },
  {
   "cell_type": "markdown",
   "metadata": {},
   "source": [
    "Those are good songs. Good good. But maybe you like something else?\n",
    "\n",
    "Try and use `filter()` to filter out some songs from artists you like."
   ]
  },
  {
   "cell_type": "code",
   "execution_count": null,
   "metadata": {},
   "outputs": [],
   "source": [
    "# your code here"
   ]
  },
  {
   "cell_type": "markdown",
   "metadata": {},
   "source": [
    "So, what if we want more than one artists? Can't we like Black Sabbath AND Justin Timberlake?  \n",
    "Yes you can, and we won't judge you!"
   ]
  },
  {
   "cell_type": "code",
   "execution_count": null,
   "metadata": {},
   "outputs": [],
   "source": [
    "singer_locations %>%\n",
    "  filter(artist_name %in% c(\"Black Sabbath\", \"Justin Timberlake\"))"
   ]
  },
  {
   "cell_type": "markdown",
   "metadata": {},
   "source": [
    "Let's break it down a moment: we defined a _vector_ containing the strings \"Black Sabbath\" and \"Justin Timberlake\" using the concatenation function `c()`; and we asked whether the `artist_name` in that row is in that vector.  \n",
    "In the tidyverse there are a bunch of verbs as `%in%` that allows you to ask this sort of questions."
   ]
  },
  {
   "cell_type": "markdown",
   "metadata": {},
   "source": [
    "But let's go back to the year ~ duration thingy. Our plot is ruined by the 0 years. Let's filter those out!  \n",
    "Write the right expression instead of the ___ underscores.  \n",
    "You can use != (that means \"different from\", \"not equal\") or > (that stands for \"greater than\")."
   ]
  },
  {
   "cell_type": "code",
   "execution_count": null,
   "metadata": {},
   "outputs": [],
   "source": [
    "singer_locations %>%\n",
    "  filter(____) %>%\n",
    "    ggplot(mapping = aes(x = year, y = duration)) +\n",
    "  geom_point() "
   ]
  },
  {
   "cell_type": "markdown",
   "metadata": {},
   "source": [
    "We can stack more than one `filter()` condition, for example:"
   ]
  },
  {
   "cell_type": "code",
   "execution_count": null,
   "metadata": {},
   "outputs": [],
   "source": [
    "singer_locations %>%\n",
    "  filter(year > 1950, year < 1980, artist_hotttnesss > 0.7) %>%\n",
    "    ggplot(mapping = aes(x = year, y = duration)) +\n",
    "  geom_point() "
   ]
  },
  {
   "cell_type": "markdown",
   "metadata": {},
   "source": [
    "The other way we could this is by using `mutate()`. The core idea here is to solve the task by correcting the 0s into missing values.\n",
    "\n",
    "Thinking like a computer, we need a rule (not a rule of thumb ;-) ). The rule is that,\n",
    "we look at the `year`,  \n",
    "if the `year` is equal to 0, we mutate its value to a proper missing (namely, `NA_integer_`, where NA stands for missing and \\_integer\\_ informs R about the type of the missing)  \n",
    "and else (if `year` is NOT equal to 0), we leave as it is.\n",
    "\n",
    "The tidyverse function doing the job is called `if_else()`, and it requires 3 arguments:  \n",
    "the first is the \"if condition\" (`year == 0`)  \n",
    "the second is the value to mutate to if the condition is satisfied,  \n",
    "the third is the value to mutate to if the condition is not satisfied."
   ]
  },
  {
   "cell_type": "code",
   "execution_count": null,
   "metadata": {},
   "outputs": [],
   "source": [
    "singer_locations %>% # our starting point\n",
    "  mutate( # we want to modify or create variables\n",
    "      year_no_0 = # we create a new one\n",
    "      if_else(year == 0, # if year is zero\n",
    "              NA_integer_, # code it missing\n",
    "              year)) %>% # else leave it as it is\n",
    "  ggplot(mapping = aes(x = year_no_0, y = duration)) +\n",
    "  geom_point() "
   ]
  },
  {
   "cell_type": "markdown",
   "metadata": {},
   "source": [
    "With `mutate()` we can either create new columns or modify existing ones. For example, let's create an index of popularity for bands that is the sum of `artist_familiarity` and `artist_hotttnesss`."
   ]
  },
  {
   "cell_type": "code",
   "execution_count": null,
   "metadata": {},
   "outputs": [],
   "source": [
    "singer_locations %>%\n",
    "  mutate(artist_popularity = artist_familiarity + artist_hotttnesss) %>%\n",
    "  head()"
   ]
  },
  {
   "cell_type": "markdown",
   "metadata": {},
   "source": [
    "You can create an index of artist coldness that is the complementary of the the `artist_hotttnesss` (that is, `1 - artist_hotttnesss`).  "
   ]
  },
  {
   "cell_type": "code",
   "execution_count": null,
   "metadata": {},
   "outputs": [],
   "source": [
    "# your code here"
   ]
  },
  {
   "cell_type": "markdown",
   "metadata": {},
   "source": [
    "## CHALLENGE!"
   ]
  },
  {
   "cell_type": "markdown",
   "metadata": {},
   "source": [
    "Challenges are harder exercises that require you to explore functionality outside what I explicitly introduced.  \n",
    "\n",
    "This round the challenge is:\n",
    "\n",
    "**produce a dataframe of the top 20 artist_names, arranged by popularity**\n",
    "\n",
    "To solve this you will need to discover 2 new functions: take a look at the \"Subset Observations (Rows)\" block in the dplyr [cheatsheet](https://www.rstudio.com/wp-content/uploads/2015/02/data-wrangling-cheatsheet.pdf)."
   ]
  },
  {
   "cell_type": "markdown",
   "metadata": {},
   "source": [
    "# PART 3: your turn"
   ]
  },
  {
   "cell_type": "markdown",
   "metadata": {},
   "source": [
    "Now it's your turn. After the warmup above, let's use a different dataframe, `gapminder` and make some initial explorations, taking care of missing values and produce some plot.  "
   ]
  },
  {
   "cell_type": "markdown",
   "metadata": {},
   "source": [
    "Play around with the `starwars` dataframe, containing information about Starwars characters, and see if you can reproduce some of the preliminary explorations and manipulations we did together."
   ]
  },
  {
   "cell_type": "markdown",
   "metadata": {},
   "source": [
    "# APPENDIX: under the hood"
   ]
  },
  {
   "cell_type": "markdown",
   "metadata": {},
   "source": [
    "## The Dataframe under the hood\n",
    "\n",
    "We said before that the data in `singer` is structured as a **dataframe**. Can we check that?  \n",
    "Sure we can. We can use `typof()`, `mode()`, and `class()` to see what kind of stuff we are dealing with in R.  \n",
    "We will talk more about this in a future lecture, for the moment just try to apply the three function to `singer_locations`."
   ]
  },
  {
   "cell_type": "code",
   "execution_count": null,
   "metadata": {},
   "outputs": [],
   "source": [
    "singer_locations %>%\n",
    "  class()"
   ]
  },
  {
   "cell_type": "code",
   "execution_count": null,
   "metadata": {},
   "outputs": [],
   "source": [
    "# your code goes here"
   ]
  },
  {
   "cell_type": "markdown",
   "metadata": {},
   "source": [
    "We discovered a couple of things.\n",
    "\n",
    "The dataset `singer_locations` is a `data.frame`, a `tbl`, and a `tbl_df`.  \n",
    "What's all that? `data.frame` is the basic R structure for dataframes, `tbl` and `tbl_df` are a special version of dataframes, defined within the tidyverse, that are called **tibbles**. A tibble is a dataframe that needs to satisfiy some extra constraint: take a look [here](http://r4ds.had.co.nz/tibbles.html#tibbles-vs.data.frame) to an overview of the differences if you are supercurious.\n",
    "\n",
    "Moreover, the type and mode of `singer_locations` is `list`. A `list` is a basic data structure in R. Under the hood, dataframes (and tibbles) are lists of columns, and each column is a `vector` of some kind (numeric, character, ...); all the columns in a dataframe **must** have the same length."
   ]
  }
 ],
 "metadata": {
  "kernelspec": {
   "display_name": "R",
   "language": "R",
   "name": "ir"
  },
  "language_info": {
   "codemirror_mode": "r",
   "file_extension": ".r",
   "mimetype": "text/x-r-source",
   "name": "R",
   "pygments_lexer": "r",
   "version": "3.5.1"
  }
 },
 "nbformat": 4,
 "nbformat_minor": 4
}
